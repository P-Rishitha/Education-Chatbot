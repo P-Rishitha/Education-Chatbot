{
 "cells": [
  {
   "cell_type": "code",
   "execution_count": 15,
   "id": "54be3164-888e-4cc7-b213-91eb8e835049",
   "metadata": {},
   "outputs": [
    {
     "name": "stdout",
     "output_type": "stream",
     "text": [
      "Hello! I’m your AI/ML Chatbot.\n",
      "You can ask me about topics like AI, ML, DL, datasets, overfitting, etc.\n",
      "Type 'exit' anytime to quit.\n",
      "\n"
     ]
    },
    {
     "name": "stdin",
     "output_type": "stream",
     "text": [
      "You:  what is ai\n"
     ]
    },
    {
     "name": "stdout",
     "output_type": "stream",
     "text": [
      "Bot: Artificial Intelligence (AI) is when machines try to mimic human intelligence and decision making.\n"
     ]
    },
    {
     "name": "stdin",
     "output_type": "stream",
     "text": [
      "You:  ml\n"
     ]
    },
    {
     "name": "stdout",
     "output_type": "stream",
     "text": [
      "Bot: Machine Learning (ML) is a subset of AI where machines learn from data instead of hardcoded rules.\n"
     ]
    },
    {
     "name": "stdin",
     "output_type": "stream",
     "text": [
      "You:  difference between ai and ml\n"
     ]
    },
    {
     "name": "stdout",
     "output_type": "stream",
     "text": [
      "Bot: AI is the bigger concept of making machines smart. ML is a branch of AI that learns from data.\n"
     ]
    },
    {
     "name": "stdin",
     "output_type": "stream",
     "text": [
      "You:  nlp\n"
     ]
    },
    {
     "name": "stdout",
     "output_type": "stream",
     "text": [
      "Bot: NLP is a part of AI that deals with understanding and generating human language.\n"
     ]
    },
    {
     "name": "stdin",
     "output_type": "stream",
     "text": [
      "You:  exit\n"
     ]
    },
    {
     "name": "stdout",
     "output_type": "stream",
     "text": [
      "Bot: Bye! Have a great day.\n"
     ]
    }
   ],
   "source": [
    "import difflib\n",
    "import re\n",
    "#15 Predefined Q&A (AI/ML basics)\n",
    "qa_bank = {\n",
    "    \"artificial intelligence\": \"Artificial Intelligence (AI) is when machines try to mimic human intelligence and decision making.\",\n",
    "    \"machine learning\": \"Machine Learning (ML) is a subset of AI where machines learn from data instead of hardcoded rules.\",\n",
    "    \"deep learning\": \"Deep Learning is a type of ML that uses neural networks with multiple hidden layers.\",\n",
    "    \"supervised learning\": \"Supervised learning means training a model on labeled data (we already know the answers).\",\n",
    "    \"unsupervised learning\": \"Unsupervised learning works with unlabeled data, and the model tries to find hidden patterns or groups.\",\n",
    "    \"reinforcement learning\": \"Reinforcement Learning is when an agent learns by trial and error, getting rewards and penalties.\",\n",
    "    \"difference between artificial intelligence and machine learning\": \n",
    "        \"AI is the bigger concept of making machines smart. ML is a branch of AI that learns from data.\",\n",
    "    \"difference between supervised and unsupervised learning\": \n",
    "        \"Supervised uses labeled data, Unsupervised works with raw unlabeled data.\",\n",
    "    \"neural network\": \"Neural networks are models inspired by the human brain, made of connected nodes (neurons).\",\n",
    "    \"natural language processing\": \"NLP is a part of AI that deals with understanding and generating human language.\",\n",
    "    \"computer vision\": \"Computer Vision is about teaching machines to understand images and videos.\",\n",
    "    \"overfitting\": \"Overfitting happens when a model memorizes training data too well but fails on new data.\",\n",
    "    \"underfitting\": \"Underfitting is when a model is too simple and fails to learn the patterns properly.\",\n",
    "    \"dataset\": \"A dataset is a collection of data used for training/testing ML models.\",\n",
    "    \"confusion matrix\": \"A confusion matrix is a table that shows TP, FP, TN, and FN for classification models.\"\n",
    "}\n",
    "#Some abbreviations \n",
    "shortcuts = {\n",
    "    \"ai\": \"artificial intelligence\",\n",
    "    \"ml\": \"machine learning\",\n",
    "    \"dl\": \"deep learning\",\n",
    "    \"nlp\": \"natural language processing\"\n",
    "}\n",
    "#Clean the input text \n",
    "def clean_text(text):\n",
    "    txt = text.lower()\n",
    "    txt = re.sub(r'[^a-z0-9\\s]', '', txt)\n",
    "    return txt.strip()\n",
    "#Find the best possible answer\n",
    "def fetch_answer(user_msg):\n",
    "    msg = clean_text(user_msg)\n",
    "    # expand shortcuts\n",
    "    for short, full in shortcuts.items():\n",
    "        msg = msg.replace(short, full)\n",
    "    #1. exact match first\n",
    "    if msg in qa_bank:\n",
    "        return qa_bank[msg]\n",
    "    #2. substring match\n",
    "    for key in qa_bank.keys():\n",
    "        if key in msg:\n",
    "            return qa_bank[key]\n",
    "    #3. fuzzy matching if not exact\n",
    "    close = difflib.get_close_matches(msg, qa_bank.keys(), n=1, cutoff=0.4)\n",
    "    if close:\n",
    "        return qa_bank[close[0]]\n",
    "    return \"Hmm, I don’t know that one. Try asking me about AI/ML basics.\"\n",
    "# Chatbot loop\n",
    "def start_chat():\n",
    "    print(\"Hello! I’m your AI/ML Chatbot.\")\n",
    "    print(\"You can ask me about topics like AI, ML, DL, datasets, overfitting, etc.\")\n",
    "    print(\"Type 'exit' anytime to quit.\\n\")\n",
    "    while True:\n",
    "        user_msg = input(\"You: \")\n",
    "        if user_msg.lower() in [\"exit\", \"quit\"]:\n",
    "            print(\"Bot: Bye! Have a great day.\")\n",
    "            break\n",
    "        bot_reply = fetch_answer(user_msg)\n",
    "        print(\"Bot:\", bot_reply)\n",
    "if __name__ == \"__main__\":\n",
    "    start_chat()\n"
   ]
  },
  {
   "cell_type": "code",
   "execution_count": null,
   "id": "a22a6d79-6d80-4a54-8114-8b614d509ad6",
   "metadata": {},
   "outputs": [],
   "source": []
  }
 ],
 "metadata": {
  "kernelspec": {
   "display_name": "Python [conda env:base] *",
   "language": "python",
   "name": "conda-base-py"
  },
  "language_info": {
   "codemirror_mode": {
    "name": "ipython",
    "version": 3
   },
   "file_extension": ".py",
   "mimetype": "text/x-python",
   "name": "python",
   "nbconvert_exporter": "python",
   "pygments_lexer": "ipython3",
   "version": "3.12.7"
  }
 },
 "nbformat": 4,
 "nbformat_minor": 5
}
